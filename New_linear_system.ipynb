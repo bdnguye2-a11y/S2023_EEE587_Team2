{
  "nbformat": 4,
  "nbformat_minor": 0,
  "metadata": {
    "colab": {
      "provenance": [],
      "authorship_tag": "ABX9TyN2P2VYiO0XnRde2G6Qp92T",
      "include_colab_link": true
    },
    "kernelspec": {
      "name": "python3",
      "display_name": "Python 3"
    },
    "language_info": {
      "name": "python"
    }
  },
  "cells": [
    {
      "cell_type": "markdown",
      "metadata": {
        "id": "view-in-github",
        "colab_type": "text"
      },
      "source": [
        "<a href=\"https://colab.research.google.com/github/bdnguye2-a11y/S2023_EEE587_Team2/blob/working_branch/New_linear_system.ipynb\" target=\"_parent\"><img src=\"https://colab.research.google.com/assets/colab-badge.svg\" alt=\"Open In Colab\"/></a>"
      ]
    },
    {
      "cell_type": "code",
      "execution_count": null,
      "metadata": {
        "id": "Wx0g8oH-pLw9"
      },
      "outputs": [],
      "source": []
    },
    {
      "cell_type": "code",
      "source": [
        "!pip install control\n"
      ],
      "metadata": {
        "colab": {
          "base_uri": "https://localhost:8080/"
        },
        "id": "S8_orM9xH8Ja",
        "outputId": "ed251086-ac20-4ba0-e702-fb3a700cf74d"
      },
      "execution_count": 3,
      "outputs": [
        {
          "output_type": "stream",
          "name": "stdout",
          "text": [
            "Looking in indexes: https://pypi.org/simple, https://us-python.pkg.dev/colab-wheels/public/simple/\n",
            "Collecting control\n",
            "  Downloading control-0.9.3.post2-py3-none-any.whl (432 kB)\n",
            "\u001b[2K     \u001b[90m━━━━━━━━━━━━━━━━━━━━━━━━━━━━━━━━━━━━━━━\u001b[0m \u001b[32m432.8/432.8 kB\u001b[0m \u001b[31m7.7 MB/s\u001b[0m eta \u001b[36m0:00:00\u001b[0m\n",
            "\u001b[?25hRequirement already satisfied: scipy>=1.3 in /usr/local/lib/python3.9/dist-packages (from control) (1.10.1)\n",
            "Requirement already satisfied: matplotlib in /usr/local/lib/python3.9/dist-packages (from control) (3.7.1)\n",
            "Requirement already satisfied: numpy in /usr/local/lib/python3.9/dist-packages (from control) (1.22.4)\n",
            "Requirement already satisfied: importlib-resources>=3.2.0 in /usr/local/lib/python3.9/dist-packages (from matplotlib->control) (5.12.0)\n",
            "Requirement already satisfied: python-dateutil>=2.7 in /usr/local/lib/python3.9/dist-packages (from matplotlib->control) (2.8.2)\n",
            "Requirement already satisfied: fonttools>=4.22.0 in /usr/local/lib/python3.9/dist-packages (from matplotlib->control) (4.39.3)\n",
            "Requirement already satisfied: cycler>=0.10 in /usr/local/lib/python3.9/dist-packages (from matplotlib->control) (0.11.0)\n",
            "Requirement already satisfied: kiwisolver>=1.0.1 in /usr/local/lib/python3.9/dist-packages (from matplotlib->control) (1.4.4)\n",
            "Requirement already satisfied: packaging>=20.0 in /usr/local/lib/python3.9/dist-packages (from matplotlib->control) (23.0)\n",
            "Requirement already satisfied: pyparsing>=2.3.1 in /usr/local/lib/python3.9/dist-packages (from matplotlib->control) (3.0.9)\n",
            "Requirement already satisfied: pillow>=6.2.0 in /usr/local/lib/python3.9/dist-packages (from matplotlib->control) (8.4.0)\n",
            "Requirement already satisfied: contourpy>=1.0.1 in /usr/local/lib/python3.9/dist-packages (from matplotlib->control) (1.0.7)\n",
            "Requirement already satisfied: zipp>=3.1.0 in /usr/local/lib/python3.9/dist-packages (from importlib-resources>=3.2.0->matplotlib->control) (3.15.0)\n",
            "Requirement already satisfied: six>=1.5 in /usr/local/lib/python3.9/dist-packages (from python-dateutil>=2.7->matplotlib->control) (1.16.0)\n",
            "Installing collected packages: control\n",
            "Successfully installed control-0.9.3.post2\n"
          ]
        }
      ]
    },
    {
      "cell_type": "code",
      "source": [],
      "metadata": {
        "id": "GTXb3iPuv2V3"
      },
      "execution_count": null,
      "outputs": []
    },
    {
      "cell_type": "code",
      "source": [
        "import numpy as np\n",
        "import matplotlib.pyplot as plt\n",
        "from scipy.integrate import odeint\n",
        "import sympy as sp\n",
        "from sympy.physics.mechanics import dynamicsymbols\n",
        "from tqdm import *\n",
        "import control as ctl\n",
        "\n",
        "sp.init_printing(use_unicode=True)\n",
        "\n",
        "\n",
        "print('Initializing Variables...')\n",
        "c = lambda x: sp.cos(x)\n",
        "s = lambda x: sp.sin(x)\n",
        "syms = []\n",
        "\n",
        "syms.append(dynamicsymbols('x'))\n",
        "syms.append(sp.diff(syms[-1]))\n",
        "syms.append(dynamicsymbols('y'))\n",
        "syms.append(sp.diff(syms[-1]))\n",
        "syms.append(dynamicsymbols('z'))\n",
        "syms.append(sp.diff(syms[-1]))\n",
        "\n",
        "\n",
        "syms.append(dynamicsymbols('alpha'))\n",
        "syms.append(sp.diff(syms[-1]))\n",
        "syms.append(dynamicsymbols('beta'))\n",
        "syms.append(sp.diff(syms[-1]))\n",
        "\n",
        "\n",
        "\n",
        "\n",
        "t = sp.symbols('t')\n",
        "\n",
        "x = syms[0]\n",
        "xdot = syms[1]\n",
        "y = syms[2]\n",
        "ydot = syms[3]\n",
        "z = syms[4]\n",
        "zdot = syms[5]\n",
        "\n",
        "\n",
        "alpha = syms[6]\n",
        "alphadot = syms[7]\n",
        "beta = syms[8]\n",
        "betadot = syms[9]\n",
        "\n",
        "psi=dynamicsymbols('psi')\n",
        "phi=dynamicsymbols('phi')\n",
        "theta=dynamicsymbols('theta')\n",
        "q = sp.Matrix([x,y,z,alpha,beta])\n",
        "\n",
        "m = sp.symbols('m')\n",
        "l = sp.symbols('l')\n",
        "M = sp.symbols('M')\n",
        "g = sp.symbols('g')\n",
        "\n",
        "I_psi = sp.symbols('I_psi')\n",
        "I_theta = sp.symbols('I_theta')\n",
        "I_phi = sp.symbols('I_phi')\n",
        "\n",
        "I_p = sp.symbols('I_p')\n",
        "\n",
        "\n",
        "zeta = sp.Matrix([x,y,z])\n",
        "r = sp.Matrix([s(alpha)*c(beta),s(alpha)*s(beta),-c(alpha)])\n",
        "zetap = zeta+l*r\n",
        "eta = sp.Matrix([psi,theta,phi])\n",
        "\n",
        "J = sp.zeros(3,3)\n",
        "\n",
        "s_th = s(theta)\n",
        "c_th = c(theta)\n",
        "c_ph = c(phi)\n",
        "s_ph = s(phi)\n",
        "\n",
        "zetadot = sp.diff(zeta,t)\n",
        "etadot = sp.diff(eta,t)\n",
        "\n",
        "zetapdot = sp.diff(zetap,t)\n",
        "\n",
        "m11 = M+m\n",
        "m22 = m11\n",
        "m33 = m11\n",
        "m14 = m*l*c(alpha)*c(beta)\n",
        "m15 = -m*l*s(alpha)*s(beta)\n",
        "m25 = m*l*c(beta) \n",
        "m34 = -m*l*s(alpha)*c(beta)\n",
        "m35 = -m*l*c(alpha)*s(beta)\n",
        "m41 = m14\n",
        "m43 = m34\n",
        "m51 = m15\n",
        "m52 = m25\n",
        "m44 = m*l*(c(beta)**2)\n",
        "m45 = 0\n",
        "m55 = m*l**2\n",
        "\n",
        "\n",
        "M_q = sp.Matrix([[m11,0,0,m14, m15],\n",
        "                 [0,m22,0, 0, m25],\n",
        "                 [0,0,m33,m34, m35],\n",
        "                 [m41,0,m43,m44,m45],\n",
        "                 [m51,m52,0,0,m55]])\n",
        "\n",
        "c14 = -(c(alpha)*s(beta)*betadot- s(alpha)*c(beta)*alphadot)\n",
        "c15 = -(c(alpha)*s(beta)*alphadot - s(alpha)*c(beta)*betadot)\n",
        "c24 = 0\n",
        "c25 = -betadot*s(beta)\n",
        "c34 = (-c(alpha)*c(beta)*alphadot + s(alpha)*s(beta)*betadot)\n",
        "c35 = (s(alpha)*s(beta)*alphadot - c(alpha)*c(beta)*betadot)\n",
        "c44 = -l*betadot*c(beta)*s(beta)\n",
        "c45 = -l*alphadot*c(beta)*s(beta)\n",
        "c54 = l*alphadot*s(beta)*c(beta)\n",
        "c55 = 0\n",
        "\n",
        "C_q = sp.Matrix([[0,0,0,c14, c15],\n",
        "                 [0,0,0,c24, c25],\n",
        "                 [0,0,0,c34, c35],\n",
        "                 [0,0,0,c44, c45],\n",
        "                 [0,0,0,c54, c55]])\n",
        "C_q = C_q*m*l\n",
        "G_q = sp.Matrix([0,0,-(M+m)*g, m*l*g*s(alpha)*c(beta), m*l*g*c(alpha)*s(beta)])\n",
        "\n",
        "\n",
        "inpts= sp.symbols('f_all')\n",
        "U = sp.zeros(5,1)\n",
        "\n",
        "U[0,0] = s(alpha)*s(psi)+c(phi)*c(psi)*s(theta)\n",
        "U[1,0] = c(phi)*s(theta)*s(psi)-c(psi)*s(phi)\n",
        "U[2,0] = c(theta)*c(phi)\n",
        "U[3,0] = 0 \n",
        "U[4,0] = 0\n",
        "\n",
        "\n",
        "qdot = sp.diff(q,t)\n",
        "qddot = sp.diff(qdot,t)\n",
        "\n",
        "U=U*inpts\n",
        "# u = sp.Matrix([inpts[0],inpts[1],inpts[2],inpts[3]])\n",
        "\n"
      ],
      "metadata": {
        "colab": {
          "base_uri": "https://localhost:8080/"
        },
        "id": "TwR4Uel8rM0Z",
        "outputId": "9d3c6d3d-6065-411d-d4fe-51c2b874f251"
      },
      "execution_count": 52,
      "outputs": [
        {
          "output_type": "stream",
          "name": "stdout",
          "text": [
            "Initializing Variables...\n"
          ]
        }
      ]
    },
    {
      "cell_type": "code",
      "source": [
        "X_dot = -M_q**-1*((C_q*qdot)+G_q-U)"
      ],
      "metadata": {
        "id": "4L5ztGtfpUeg"
      },
      "execution_count": 71,
      "outputs": []
    },
    {
      "cell_type": "code",
      "source": [
        "print(X_dot.shape)\n",
        "q\n",
        "qdot"
      ],
      "metadata": {
        "colab": {
          "base_uri": "https://localhost:8080/",
          "height": 139
        },
        "id": "P5ezgp_auRzo",
        "outputId": "7e58a530-6e8e-4010-908d-0d2881f200cb"
      },
      "execution_count": 65,
      "outputs": [
        {
          "output_type": "stream",
          "name": "stdout",
          "text": [
            "(5, 1)\n"
          ]
        },
        {
          "output_type": "execute_result",
          "data": {
            "text/plain": [
              "⎡d       ⎤\n",
              "⎢──(x(t))⎥\n",
              "⎢dt      ⎥\n",
              "⎢        ⎥\n",
              "⎢d       ⎥\n",
              "⎢──(y(t))⎥\n",
              "⎢dt      ⎥\n",
              "⎢        ⎥\n",
              "⎢d       ⎥\n",
              "⎢──(z(t))⎥\n",
              "⎢dt      ⎥\n",
              "⎢        ⎥\n",
              "⎢d       ⎥\n",
              "⎢──(α(t))⎥\n",
              "⎢dt      ⎥\n",
              "⎢        ⎥\n",
              "⎢d       ⎥\n",
              "⎢──(β(t))⎥\n",
              "⎣dt      ⎦"
            ],
            "text/latex": "$\\displaystyle \\left[\\begin{matrix}\\frac{d}{d t} x{\\left(t \\right)}\\\\\\frac{d}{d t} y{\\left(t \\right)}\\\\\\frac{d}{d t} z{\\left(t \\right)}\\\\\\frac{d}{d t} \\alpha{\\left(t \\right)}\\\\\\frac{d}{d t} \\beta{\\left(t \\right)}\\end{matrix}\\right]$"
          },
          "metadata": {},
          "execution_count": 65
        }
      ]
    },
    {
      "cell_type": "code",
      "source": [
        "cpy = sp.zeros(5,1)\n",
        "for i in range(5):\n",
        "    cpy[i] = X_dot[i]\n",
        "\n",
        "params = [m,l,M,g]\n",
        "vals = [1, 1, 7, 9.8]\n",
        "\n",
        "for row in trange(5):\n",
        "    for j in range(len(params)):\n",
        "        cpy[row] = cpy[row].subs(params[j],vals[j])\n",
        "        \n",
        "# Linearization\n",
        "#################################################\n",
        "sbls = sp.symbols('x1:11')\n",
        "for row in trange(5):\n",
        "    for i in range(5):\n",
        "        state_var = qdot[i]\n",
        "        sub_sym = sbls[i+5]\n",
        "        cpy[row] = cpy[row].subs(state_var,sub_sym)\n",
        "    for i in range(5):\n",
        "        state_var = q[i]\n",
        "        sub_sym = sbls[i]\n",
        "        cpy[row] = cpy[row].subs(state_var,sub_sym)\n",
        "\n",
        "print(cpy.shape)\n",
        "A_ = sp.zeros(10)\n",
        "B_ = sp.zeros(10,1)\n"
      ],
      "metadata": {
        "colab": {
          "base_uri": "https://localhost:8080/"
        },
        "id": "TAe2_r4zxa2t",
        "outputId": "a2e021f1-d097-4d1d-fff6-2eb5cb9536f8"
      },
      "execution_count": 66,
      "outputs": [
        {
          "output_type": "stream",
          "name": "stderr",
          "text": [
            "100%|██████████| 5/5 [00:00<00:00,  8.41it/s]\n",
            "100%|██████████| 5/5 [00:01<00:00,  2.82it/s]"
          ]
        },
        {
          "output_type": "stream",
          "name": "stdout",
          "text": [
            "(5, 1)\n"
          ]
        },
        {
          "output_type": "stream",
          "name": "stderr",
          "text": [
            "\n"
          ]
        }
      ]
    },
    {
      "cell_type": "code",
      "source": [
        "q"
      ],
      "metadata": {
        "colab": {
          "base_uri": "https://localhost:8080/",
          "height": 119
        },
        "id": "-bJp8HRr1gNC",
        "outputId": "231fc4c2-20b0-4168-8215-7c7adb9a35f4"
      },
      "execution_count": 26,
      "outputs": [
        {
          "output_type": "execute_result",
          "data": {
            "text/plain": [
              "⎡x(t)⎤\n",
              "⎢    ⎥\n",
              "⎢y(t)⎥\n",
              "⎢    ⎥\n",
              "⎢z(t)⎥\n",
              "⎢    ⎥\n",
              "⎢α(t)⎥\n",
              "⎢    ⎥\n",
              "⎣β(t)⎦"
            ],
            "text/latex": "$\\displaystyle \\left[\\begin{matrix}x{\\left(t \\right)}\\\\y{\\left(t \\right)}\\\\z{\\left(t \\right)}\\\\\\alpha{\\left(t \\right)}\\\\\\beta{\\left(t \\right)}\\end{matrix}\\right]$"
          },
          "metadata": {},
          "execution_count": 26
        }
      ]
    },
    {
      "cell_type": "code",
      "source": [
        "with tqdm(total = 5*20) as pbar:\n",
        "    for row in range(5):\n",
        "        A_[row,row+5] = 1\n",
        "            \n",
        "    for row in range(5):\n",
        "        for column in range(10):\n",
        "            A_[row+5,column] = sp.diff(cpy[row],sbls[column])\n",
        "            pbar.update(1)\n",
        "        for column in range(1):\n",
        "            B_[row+5,column] = sp.diff(cpy[row],inpts)\n",
        "            pbar.update(1)\n"
      ],
      "metadata": {
        "colab": {
          "base_uri": "https://localhost:8080/"
        },
        "id": "M1NWlOqh10zo",
        "outputId": "fdd4b835-3050-4cec-b86b-93363e571ff5"
      },
      "execution_count": 55,
      "outputs": [
        {
          "output_type": "stream",
          "name": "stderr",
          "text": [
            " 55%|█████▌    | 55/100 [00:01<00:01, 32.89it/s]\n"
          ]
        }
      ]
    },
    {
      "cell_type": "code",
      "source": [
        "########################################################\n",
        "#x,y,z,psi,theta,phi,alpha,beta\n",
        "\n",
        "def linearize(inQ,inU, a1, a2, a3):\n",
        "    tempA = sp.zeros(10)\n",
        "    tempB = sp.zeros(10,)\n",
        "    \n",
        "    for row in range(10):\n",
        "        for column in range(10):\n",
        "            tempA[row,column] = A_[row,column]\n",
        "    \n",
        "    for row in range(10):\n",
        "        for column in range(1):\n",
        "            tempB[row,column] = B_[row,column]\n",
        "    \n",
        "    for row in range(5,10):\n",
        "        for j in range(10):\n",
        "            for column in range(10):\n",
        "                tempA[row,column] = tempA[row,column].subs(sbls[j],inQ[j])\n",
        "                if column < 1:\n",
        "                    tempB[row,column] = tempB[row,column].subs(sbls[j],inQ[j])\n",
        "        for j in range(1):\n",
        "            for column in range(10):\n",
        "                tempA[row,column] = tempA[row,column].subs(inpts,inU)\n",
        "                tempA[row,column] = tempA[row,column].subs(phi,a1)\n",
        "                tempA[row,column] = tempA[row,column].subs(theta,a2)\n",
        "                tempA[row,column] = tempA[row,column].subs(psi,a3)\n",
        "                if column < 1:\n",
        "                    tempB[row,column] = tempB[row,column].subs(inpts,inU)\n",
        "                    tempB[row,column] = tempB[row,column].subs(phi,a1)\n",
        "                    tempB[row,column] = tempB[row,column].subs(theta,a2)\n",
        "                    tempB[row,column] = tempB[row,column].subs(psi,a3)\n",
        "    # tempA.subs(psi, 0)\n",
        "    # tempA.subs(theta, 0)\n",
        "    # tempA.subs(phi, 0)\n",
        "    print(tempA)\n",
        "    print(tempB)\n",
        "    return np.array(tempA).astype(float),np.array(tempB).astype(float)\n",
        "\n",
        "#x,y,z,psi,theta,phi,alpha,beta\n",
        "\n",
        "eq = np.array([[1,0,1,0,np.pi/7, 0, 0, 0, 0, 0]])\n",
        "initU = 1\n",
        "\n",
        "A,B = linearize(eq[0,:],initU, 0, 0, 0)\n"
      ],
      "metadata": {
        "colab": {
          "base_uri": "https://localhost:8080/"
        },
        "id": "RiOXI7Y71921",
        "outputId": "8250b33c-9da0-4e01-970b-6a7520d721de"
      },
      "execution_count": 69,
      "outputs": [
        {
          "output_type": "stream",
          "name": "stdout",
          "text": [
            "Matrix([[0, 0, 0, 0, 0, 0, 0, 0, 0, 0], [0, 0, 0, 0, 0, 0, 0, 0, 0, 0], [0, 0, 0, 0, 0, 0, 0, 0, 0, 0], [0, 0, 0, 0, 0, 0, 0, 0, 0, 0], [0, 0, 0, 0, 0, 0, 0, 0, 0, 0], [0, 0, 0, 0, 0, 0, 0, 0, 0, 0], [0, 0, 0, 0, 0, 0, 0, 0, 0, 0], [0, 0, 0, 0, 0, 0, 0, 0, 0, 0], [0, 0, 0, 0, 0, 0, 0, 0, 0, 0], [0, 0, 0, 0, 0, 0, 0, 0, 0, 0]])\n",
            "Matrix([[0, 0, 0, 0, 0, 0, 0, 0, 0, 0], [0, 0, 0, 0, 0, 0, 0, 0, 0, 0], [0, 0, 0, 0, 0, 0, 0, 0, 0, 0], [0, 0, 0, 0, 0, 0, 0, 0, 0, 0], [0, 0, 0, 0, 0, 0, 0, 0, 0, 0], [0, 0, 0, 0, 0, 0, 0, 0, 0, 0], [0, 0, 0, 0, 0, 0, 0, 0, 0, 0], [0, 0, 0, 0, 0, 0, 0, 0, 0, 0], [0, 0, 0, 0, 0, 0, 0, 0, 0, 0], [0, 0, 0, 0, 0, 0, 0, 0, 0, 0]])\n"
          ]
        }
      ]
    },
    {
      "cell_type": "code",
      "source": [
        "A"
      ],
      "metadata": {
        "colab": {
          "base_uri": "https://localhost:8080/"
        },
        "id": "xC-DRnDf_Hon",
        "outputId": "4a46ee89-9e9c-4a3b-a82f-64c9c9a3333c"
      },
      "execution_count": 70,
      "outputs": [
        {
          "output_type": "execute_result",
          "data": {
            "text/plain": [
              "array([[0., 0., 0., 0., 0., 0., 0., 0., 0., 0.],\n",
              "       [0., 0., 0., 0., 0., 0., 0., 0., 0., 0.],\n",
              "       [0., 0., 0., 0., 0., 0., 0., 0., 0., 0.],\n",
              "       [0., 0., 0., 0., 0., 0., 0., 0., 0., 0.],\n",
              "       [0., 0., 0., 0., 0., 0., 0., 0., 0., 0.],\n",
              "       [0., 0., 0., 0., 0., 0., 0., 0., 0., 0.],\n",
              "       [0., 0., 0., 0., 0., 0., 0., 0., 0., 0.],\n",
              "       [0., 0., 0., 0., 0., 0., 0., 0., 0., 0.],\n",
              "       [0., 0., 0., 0., 0., 0., 0., 0., 0., 0.],\n",
              "       [0., 0., 0., 0., 0., 0., 0., 0., 0., 0.]])"
            ]
          },
          "metadata": {},
          "execution_count": 70
        }
      ]
    },
    {
      "cell_type": "code",
      "source": [
        "B"
      ],
      "metadata": {
        "colab": {
          "base_uri": "https://localhost:8080/"
        },
        "id": "HM3gHq4WBIiq",
        "outputId": "0047c7ea-294a-462e-e0d2-8832a3770764"
      },
      "execution_count": 58,
      "outputs": [
        {
          "output_type": "execute_result",
          "data": {
            "text/plain": [
              "array([[0.   , 0.   , 0.   , 0.   , 0.   , 0.   , 0.   , 0.   , 0.   ,\n",
              "        0.   ],\n",
              "       [0.   , 0.   , 0.   , 0.   , 0.   , 0.   , 0.   , 0.   , 0.   ,\n",
              "        0.   ],\n",
              "       [0.   , 0.   , 0.   , 0.   , 0.   , 0.   , 0.   , 0.   , 0.   ,\n",
              "        0.   ],\n",
              "       [0.   , 0.   , 0.   , 0.   , 0.   , 0.   , 0.   , 0.   , 0.   ,\n",
              "        0.   ],\n",
              "       [0.   , 0.   , 0.   , 0.   , 0.   , 0.   , 0.   , 0.   , 0.   ,\n",
              "        0.   ],\n",
              "       [0.   , 0.   , 0.   , 0.   , 0.   , 0.   , 0.   , 0.   , 0.   ,\n",
              "        0.   ],\n",
              "       [0.   , 0.   , 0.   , 0.   , 0.   , 0.   , 0.   , 0.   , 0.   ,\n",
              "        0.   ],\n",
              "       [0.125, 0.   , 0.   , 0.   , 0.   , 0.   , 0.   , 0.   , 0.   ,\n",
              "        0.   ],\n",
              "       [0.   , 0.   , 0.   , 0.   , 0.   , 0.   , 0.   , 0.   , 0.   ,\n",
              "        0.   ],\n",
              "       [0.   , 0.   , 0.   , 0.   , 0.   , 0.   , 0.   , 0.   , 0.   ,\n",
              "        0.   ]])"
            ]
          },
          "metadata": {},
          "execution_count": 58
        }
      ]
    },
    {
      "cell_type": "code",
      "source": [
        "C=np.zeros((5,10))\n",
        "C[0,0]=1\n",
        "C[1,1] =1\n",
        "C[2,2] =1\n",
        "C[3,3] =1\n",
        "C[4,4] =1\n",
        "sys = ctl.c2d(ctl.ss(A,B,C,0),.001)\n"
      ],
      "metadata": {
        "id": "51HzlkBaCVSP"
      },
      "execution_count": 62,
      "outputs": []
    },
    {
      "cell_type": "code",
      "source": [
        "ctr=ctl.ctrb(A,B)\n",
        "r=np.linalg.matrix_rank(ctr)"
      ],
      "metadata": {
        "id": "4uevrnouMyjH"
      },
      "execution_count": 63,
      "outputs": []
    },
    {
      "cell_type": "code",
      "source": [
        "print(r)"
      ],
      "metadata": {
        "colab": {
          "base_uri": "https://localhost:8080/"
        },
        "id": "HsLG3ptfNG10",
        "outputId": "30000e38-32b4-42f7-ca96-3a0c221fee22"
      },
      "execution_count": 64,
      "outputs": [
        {
          "output_type": "stream",
          "name": "stdout",
          "text": [
            "2\n"
          ]
        }
      ]
    },
    {
      "cell_type": "code",
      "source": [],
      "metadata": {
        "id": "4DqxVIxPNH2U"
      },
      "execution_count": null,
      "outputs": []
    }
  ]
}